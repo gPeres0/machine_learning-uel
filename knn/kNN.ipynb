{
 "cells": [
  {
   "cell_type": "markdown",
   "id": "e5e4ee09",
   "metadata": {},
   "source": [
    "\n",
    "# kNN no *Iris Dataset*\n",
    "\n",
    "Este notebook demonstra um fluxo completo de **classificação** usando o algoritmo **k-Nearest Neighbors (kNN)** no conjunto de dados **Iris**:\n",
    "\n",
    "1. Carregar e inspecionar os dados  \n",
    "2. Dividir em **treino** e **teste**  \n",
    "3. Treinar com `fit` e prever com `predict`  \n",
    "4. Avaliar a **acurácia**\n"
   ]
  },
  {
   "cell_type": "markdown",
   "id": "f2742edb",
   "metadata": {},
   "source": [
    "\n",
    "## 1) Importações\n"
   ]
  },
  {
   "cell_type": "code",
   "execution_count": 9,
   "id": "0c351269",
   "metadata": {},
   "outputs": [],
   "source": [
    "\n",
    "from sklearn.datasets import load_iris\n",
    "import pandas as pd\n",
    "import numpy as np\n",
    "from sklearn.model_selection import train_test_split\n",
    "from sklearn.metrics import accuracy_score, classification_report, confusion_matrix\n",
    "import matplotlib.pyplot as plt\n",
    "# Import da classe KNN implementada no arquivo KNN.py\n",
    "from KNN import KNN\n",
    "\n",
    "# Garantir reprodutibilidade\n",
    "RANDOM_STATE = 42\n"
   ]
  },
  {
   "cell_type": "markdown",
   "id": "c6e420f9",
   "metadata": {},
   "source": [
    "\n",
    "## 2) Carregar e inspecionar os dados\n"
   ]
  },
  {
   "cell_type": "code",
   "execution_count": 10,
   "id": "da7c91a9",
   "metadata": {},
   "outputs": [
    {
     "name": "stdout",
     "output_type": "stream",
     "text": [
      "Formato de X: (150, 4)\n",
      "Formato de y: (150,)\n",
      "Classes: ['setosa' 'versicolor' 'virginica']\n"
     ]
    },
    {
     "data": {
      "text/html": [
       "<div>\n",
       "<style scoped>\n",
       "    .dataframe tbody tr th:only-of-type {\n",
       "        vertical-align: middle;\n",
       "    }\n",
       "\n",
       "    .dataframe tbody tr th {\n",
       "        vertical-align: top;\n",
       "    }\n",
       "\n",
       "    .dataframe thead th {\n",
       "        text-align: right;\n",
       "    }\n",
       "</style>\n",
       "<table border=\"1\" class=\"dataframe\">\n",
       "  <thead>\n",
       "    <tr style=\"text-align: right;\">\n",
       "      <th></th>\n",
       "      <th>sepal length (cm)</th>\n",
       "      <th>sepal width (cm)</th>\n",
       "      <th>petal length (cm)</th>\n",
       "      <th>petal width (cm)</th>\n",
       "    </tr>\n",
       "  </thead>\n",
       "  <tbody>\n",
       "    <tr>\n",
       "      <th>0</th>\n",
       "      <td>5.1</td>\n",
       "      <td>3.5</td>\n",
       "      <td>1.4</td>\n",
       "      <td>0.2</td>\n",
       "    </tr>\n",
       "    <tr>\n",
       "      <th>1</th>\n",
       "      <td>4.9</td>\n",
       "      <td>3.0</td>\n",
       "      <td>1.4</td>\n",
       "      <td>0.2</td>\n",
       "    </tr>\n",
       "    <tr>\n",
       "      <th>2</th>\n",
       "      <td>4.7</td>\n",
       "      <td>3.2</td>\n",
       "      <td>1.3</td>\n",
       "      <td>0.2</td>\n",
       "    </tr>\n",
       "    <tr>\n",
       "      <th>3</th>\n",
       "      <td>4.6</td>\n",
       "      <td>3.1</td>\n",
       "      <td>1.5</td>\n",
       "      <td>0.2</td>\n",
       "    </tr>\n",
       "    <tr>\n",
       "      <th>4</th>\n",
       "      <td>5.0</td>\n",
       "      <td>3.6</td>\n",
       "      <td>1.4</td>\n",
       "      <td>0.2</td>\n",
       "    </tr>\n",
       "  </tbody>\n",
       "</table>\n",
       "</div>"
      ],
      "text/plain": [
       "   sepal length (cm)  sepal width (cm)  petal length (cm)  petal width (cm)\n",
       "0                5.1               3.5                1.4               0.2\n",
       "1                4.9               3.0                1.4               0.2\n",
       "2                4.7               3.2                1.3               0.2\n",
       "3                4.6               3.1                1.5               0.2\n",
       "4                5.0               3.6                1.4               0.2"
      ]
     },
     "execution_count": 10,
     "metadata": {},
     "output_type": "execute_result"
    }
   ],
   "source": [
    "\n",
    "iris = load_iris(as_frame=True)\n",
    "X = iris.data\n",
    "y = iris.target\n",
    "print(\"Formato de X:\", X.shape)\n",
    "print(\"Formato de y:\", y.shape)\n",
    "print(\"Classes:\", iris.target_names)\n",
    "X.head()\n"
   ]
  },
  {
   "cell_type": "markdown",
   "id": "3964b587",
   "metadata": {},
   "source": [
    "\n",
    "## 3) Dividir em treino e teste\n",
    "\n",
    "Usamos `train_test_split` com **estratificação** para manter a proporção das classes.\n"
   ]
  },
  {
   "cell_type": "code",
   "execution_count": 11,
   "id": "3a6597d3",
   "metadata": {},
   "outputs": [
    {
     "name": "stdout",
     "output_type": "stream",
     "text": [
      "Tamanho treino: (120, 4)  | Tamanho teste: (30, 4)\n"
     ]
    }
   ],
   "source": [
    "\n",
    "X_train, X_test, y_train, y_test = train_test_split(\n",
    "    X, y, test_size=0.2, stratify=y, random_state=RANDOM_STATE\n",
    ")\n",
    "print(\"Tamanho treino:\", X_train.shape, \" | Tamanho teste:\", X_test.shape)\n"
   ]
  },
  {
   "cell_type": "markdown",
   "id": "4e5f0e00",
   "metadata": {},
   "source": [
    "\n",
    "## 4) Treinar o modelo (fit) e fazer previsões (predict)\n"
   ]
  },
  {
   "cell_type": "code",
   "execution_count": 12,
   "id": "4f45e17f",
   "metadata": {},
   "outputs": [
    {
     "name": "stdout",
     "output_type": "stream",
     "text": [
      "Acurácia (k=3): 1.0000\n"
     ]
    }
   ],
   "source": [
    "\n",
    "k = 3  # você pode ajustar\n",
    "knn = KNN(k=k, metric=\"euclidean\")\n",
    "\n",
    "# Treinar\n",
    "knn.fit(X_train, y_train)\n",
    "\n",
    "# Prever\n",
    "y_pred = knn.predict(X_test)\n",
    "\n",
    "# Acurácia\n",
    "acc = accuracy_score(y_test, y_pred)\n",
    "print(f\"Acurácia (k={k}): {acc:.4f}\")\n"
   ]
  },
  {
   "cell_type": "markdown",
   "id": "0f1de3f6",
   "metadata": {},
   "source": [
    "\n",
    "## 5) Testando a votação ponderada por distância\n",
    "\n",
    "Você pode reduzir empates e dar mais importância a vizinhos mais próximos configurando `weights='distance'`.\n"
   ]
  },
  {
   "cell_type": "code",
   "execution_count": 13,
   "id": "11f19af1",
   "metadata": {},
   "outputs": [
    {
     "name": "stdout",
     "output_type": "stream",
     "text": [
      "Acurácia com weights='distance' (k=3): 1.0000\n"
     ]
    }
   ],
   "source": [
    "\n",
    "k = 3\n",
    "knn_distance = KNN(k=k)\n",
    "\n",
    "knn_distance.fit(X_train, y_train)\n",
    "y_pred_d = knn_distance.predict(X_test)\n",
    "acc_d = accuracy_score(y_test, y_pred_d)\n",
    "print(f\"Acurácia com weights='distance' (k={k}): {acc_d:.4f}\")\n"
   ]
  },
  {
   "cell_type": "markdown",
   "id": "d52a62b2-6980-4879-8db7-354c0b28218c",
   "metadata": {
    "scrolled": true
   },
   "source": [
    "## 6) Testando a Distância de Manhattan (L1)\n",
    "\n",
    "No kNN, além da distância Euclidiana (L2), podemos usar a **distância de Manhattan (L1)**, que soma os módulos das diferenças por atributo.  \n",
    "Em `scikit-learn`, podemos configurá-la com `metric='manhattan'` (ou `metric='minkowski', p=1`)."
   ]
  },
  {
   "cell_type": "code",
   "execution_count": 15,
   "id": "c58910da-7a3c-4447-bd65-9b5e1d861070",
   "metadata": {},
   "outputs": [
    {
     "name": "stdout",
     "output_type": "stream",
     "text": [
      "Acurácia com Distância de Manhattan (k=3):  1.0000\n"
     ]
    }
   ],
   "source": [
    "\n",
    "k = 3\n",
    "knn_l1 = KNN(k=k, metric=\"manhattan\")\n",
    "\n",
    "knn_l1.fit(X_train, y_train)\n",
    "acc_l1 = accuracy_score(y_test, y_pred)\n",
    "print(f\"Acurácia com Distância de Manhattan (k={k}):  {acc_l1:.4f}\")\n"
   ]
  },
  {
   "cell_type": "markdown",
   "id": "96f4e90b-ac98-4777-81df-73ec096cae31",
   "metadata": {},
   "source": [
    "## 7) Avaliando diferentes valores de *k* (distância Euclidiana)\n",
    "\n",
    "Vamos varrer `k` de 1 a 30 usando kNN com **distância Euclidiana** (`metric='minkowski', p=2`) e observar a acurácia no conjunto de teste.\n",
    "\n",
    "> Nota: estamos usando uma única divisão treino/teste. Para uma escolha mais robusta de `k`, prefira **validação cruzada**.\n"
   ]
  },
  {
   "cell_type": "code",
   "execution_count": 17,
   "id": "5065bd78-c9e8-4900-9dcc-befdbde1b3b8",
   "metadata": {},
   "outputs": [
    {
     "name": "stdout",
     "output_type": "stream",
     "text": [
      "Melhor k (Euclidiana): 1 | Acurácia: 1.0000\n"
     ]
    }
   ],
   "source": [
    "ks = np.arange(1, 31)  # k de 1 a 30\n",
    "acc_l2_all = []\n",
    "\n",
    "for k in ks:\n",
    "    knn = KNN(k=k, metric=\"minkowski\", p=2)\n",
    "    \n",
    "    knn.fit(X_train, y_train)\n",
    "    acc_l2_all.append(accuracy_score(y_test, y_pred))\n",
    "\n",
    "acc_l2_all = np.array(acc_l2_all)\n",
    "best_k = ks[np.argmax(acc_l2_all)]\n",
    "best_acc = acc_l2_all.max()\n",
    "\n",
    "print(f\"Melhor k (Euclidiana): {best_k} | Acurácia: {best_acc:.4f}\")\n"
   ]
  },
  {
   "cell_type": "code",
   "execution_count": 18,
   "id": "b1ee82d4-ecea-41e2-9f89-29a74bec898c",
   "metadata": {},
   "outputs": [
    {
     "data": {
      "image/png": "[encoded data removed]",
      "text/plain": [
       "<Figure size 700x500 with 1 Axes>"
      ]
     },
     "metadata": {},
     "output_type": "display_data"
    }
   ],
   "source": [
    "\n",
    "plt.figure(figsize=(7, 5))\n",
    "plt.plot(ks, acc_l2_all, marker='o')\n",
    "plt.xlabel('k')\n",
    "plt.ylabel('Acurácia no teste')\n",
    "plt.title('kNN (Distância Euclidiana)')\n",
    "plt.grid(True)\n",
    "plt.show()\n"
   ]
  },
  {
   "cell_type": "markdown",
   "id": "83d538b4-31b2-47c8-b667-c0a502a83494",
   "metadata": {},
   "source": [
    "## 8) Plot 2D de treinamento e teste (classes **preditas**)\n",
    "\n",
    "Treinaremos o kNN usando **todas as 4 features** do Iris, mas para **visualização** projetaremos os pontos em **duas dimensões** (eixos do gráfico).  \n",
    "Isso permite observar como as **classes preditas** se distribuem em 2D, mesmo que a decisão tenha sido tomada no espaço 4D.\n",
    "\n",
    "Passos:\n",
    "1. Treinar `Pipeline(StandardScaler + KNeighborsClassifier)` com **todas as features** (X\\_train completo).\n",
    "2. Prever no **teste** (y\\_pred\\_test).\n",
    "3. Selecionar **duas colunas** de `X` apenas para **plotar** (ex.: `petal length (cm)` e `petal width (cm)`).\n",
    "4. Plotar **treino** (marcador “o”) e **teste** (marcador “x”), **colorindo** pela **classe predita**.\n"
   ]
  },
  {
   "cell_type": "code",
   "execution_count": 20,
   "id": "80a7469f-084c-4aa9-baef-660cf493e635",
   "metadata": {},
   "outputs": [
    {
     "data": {
      "image/png": "[encoded data removed]",
      "text/plain": [
       "<Figure size 700x500 with 1 Axes>"
      ]
     },
     "metadata": {},
     "output_type": "display_data"
    }
   ],
   "source": [
    "# 1) Treinar com todas as features\n",
    "k = 3\n",
    "knn2d = KNN(k=k, metric=\"minkowski\", p=2)\n",
    "\n",
    "knn2d.fit(X_train, y_train)\n",
    "\n",
    "# 2) Predições no teste (no espaço de 4 features)\n",
    "y_pred_test  = knn2d.predict(X_test)\n",
    "\n",
    "# 3) Escolher duas features para PLOT (apenas visualização)\n",
    "feature_x = 'petal length (cm)'\n",
    "feature_y = 'petal width (cm)'\n",
    "\n",
    "X2_train = X_train[[feature_x, feature_y]]\n",
    "X2_test  = X_test[[feature_x, feature_y]]\n",
    "\n",
    "# 4) Plotar: treino (o) e teste (x), coloridos pelas classes preditas\n",
    "plt.figure(figsize=(7, 5))\n",
    "\n",
    "# Para legenda clara, plotamos uma série por classe predita e por split (train/test)\n",
    "classes = np.unique(y)  # [0,1,2]\n",
    "class_names = iris.target_names  # ['setosa','versicolor','virginica']\n",
    "colors = {0: \"blue\", 1: \"green\", 2: \"red\"}\n",
    "\n",
    "# Treino (círculos)\n",
    "for c in classes:\n",
    "    sel = (y_train == c)\n",
    "    plt.scatter(X2_train[feature_x][sel],\n",
    "                X2_train[feature_y][sel],\n",
    "                label=f\"Treino ({class_names[c]})\",\n",
    "                alpha=0.5,\n",
    "                marker='o',\n",
    "                color=colors[c]\n",
    "               )\n",
    "\n",
    "# Teste (xis)\n",
    "for c in classes:\n",
    "    sel = (y_pred_test == c)\n",
    "    plt.scatter(X2_test[feature_x][sel],\n",
    "                X2_test[feature_y][sel],\n",
    "                label=f\"Teste ({class_names[c]})\",\n",
    "                alpha=0.8,\n",
    "                marker='x',\n",
    "                color=colors[c]\n",
    "               )\n",
    "\n",
    "# Verificando erros na predicao\n",
    "# for c in classes:\n",
    "#     sel = (y_test == c)\n",
    "#     plt.scatter(X2_test[feature_x][sel],\n",
    "#                 X2_test[feature_y][sel],\n",
    "#                 label=f\"Rótulo ({class_names[c]})\",\n",
    "#                 alpha=0.5,\n",
    "#                 marker='^',\n",
    "#                 color=colors[c]\n",
    "#                )\n",
    "\n",
    "plt.xlabel(feature_x)\n",
    "plt.ylabel(feature_y)\n",
    "plt.title(f\"kNN (k={k}) — Predições em 4D, visualização em 2D\")\n",
    "plt.legend(ncol=2, fontsize=9)\n",
    "plt.grid(True)\n",
    "plt.tight_layout()\n",
    "plt.show()\n"
   ]
  },
  {
   "cell_type": "code",
   "execution_count": null,
   "id": "bbc32539-090f-4290-8d5d-b21b42d5dd6c",
   "metadata": {},
   "outputs": [],
   "source": []
  }
 ],
 "metadata": {
  "kernelspec": {
   "display_name": ".venv",
   "language": "python",
   "name": "python3"
  },
  "language_info": {
   "codemirror_mode": {
    "name": "ipython",
    "version": 3
   },
   "file_extension": ".py",
   "mimetype": "text/x-python",
   "name": "python",
   "nbconvert_exporter": "python",
   "pygments_lexer": "ipython3",
   "version": "3.12.3"
  }
 },
 "nbformat": 4,
 "nbformat_minor": 5
}
